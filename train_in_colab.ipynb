{
 "cells": [
  {
   "cell_type": "markdown",
   "metadata": {},
   "source": [
    "# Shape Scene Generator - Training in Google Colab\n",
    "\n",
    "This notebook trains the Conditional VAE model for caption-to-image generation."
   ]
  },
  {
   "cell_type": "markdown",
   "metadata": {},
   "source": [
    "## Setup: Clone Repository and Install Dependencies"
   ]
  },
  {
   "cell_type": "code",
   "execution_count": null,
   "metadata": {},
   "outputs": [],
   "source": [
    "# Clone the repository\n",
    "!git clone https://github.com/jtooates/learning_to_see.git\n",
    "%cd learning_to_see"
   ]
  },
  {
   "cell_type": "code",
   "execution_count": null,
   "metadata": {},
   "outputs": [],
   "source": [
    "# Install dependencies\n",
    "!pip install -q torch torchvision Pillow numpy matplotlib tqdm"
   ]
  },
  {
   "cell_type": "code",
   "execution_count": null,
   "metadata": {},
   "outputs": [],
   "source": [
    "# Check if GPU is available\n",
    "import torch\n",
    "device = torch.device(\"cuda\" if torch.cuda.is_available() else \"cpu\")\n",
    "print(f\"Using device: {device}\")\n",
    "if torch.cuda.is_available():\n",
    "    print(f\"GPU: {torch.cuda.get_device_name(0)}\")"
   ]
  },
  {
   "cell_type": "markdown",
   "metadata": {},
   "source": [
    "## Test Data Generation"
   ]
  },
  {
   "cell_type": "code",
   "execution_count": null,
   "metadata": {},
   "outputs": [],
   "source": [
    "from src.data.dataset import ShapeSceneDataset\n",
    "import matplotlib.pyplot as plt\n",
    "\n",
    "# Create a small test dataset\n",
    "dataset = ShapeSceneDataset(size=10, canvas_size=256, seed=42)\n",
    "\n",
    "# Visualize a few samples\n",
    "fig, axes = plt.subplots(2, 3, figsize=(12, 8))\n",
    "axes = axes.flatten()\n",
    "\n",
    "for i in range(6):\n",
    "    image_array, caption = dataset.get_raw_sample(i)\n",
    "    axes[i].imshow(image_array)\n",
    "    axes[i].set_title(caption, fontsize=8, wrap=True)\n",
    "    axes[i].axis('off')\n",
    "\n",
    "plt.tight_layout()\n",
    "plt.show()\n",
    "\n",
    "print(\"✓ Data generation working!\")"
   ]
  },
  {
   "cell_type": "markdown",
   "metadata": {},
   "source": [
    "## Train the Model"
   ]
  },
  {
   "cell_type": "code",
   "execution_count": null,
   "metadata": {},
   "outputs": [],
   "source": [
    "import torch.optim as optim\n",
    "from torch.utils.data import DataLoader, random_split\n",
    "from src.data.dataset import ShapeSceneDataset, collate_fn\n",
    "from src.generation.models.cvae import ConditionalVAE\n",
    "from src.generation.training.losses import VAELoss\n",
    "from src.generation.training.trainer import Trainer\n",
    "from src.generation.utils.tokenizer import CaptionTokenizer\n",
    "\n",
    "# Hyperparameters\n",
    "BATCH_SIZE = 32\n",
    "NUM_EPOCHS = 30  # Reduced for Colab\n",
    "LEARNING_RATE = 1e-4\n",
    "DATASET_SIZE = 5000  # Smaller for faster training in Colab\n",
    "IMAGE_SIZE = 256\n",
    "LATENT_DIM = 128\n",
    "CAPTION_DIM = 256\n",
    "\n",
    "print(\"Creating dataset...\")\n",
    "full_dataset = ShapeSceneDataset(size=DATASET_SIZE, canvas_size=IMAGE_SIZE, seed=42)\n",
    "\n",
    "# Split into train/val\n",
    "val_size = int(0.1 * len(full_dataset))\n",
    "train_size = len(full_dataset) - val_size\n",
    "train_dataset, val_dataset = random_split(\n",
    "    full_dataset, [train_size, val_size],\n",
    "    generator=torch.Generator().manual_seed(42)\n",
    ")\n",
    "\n",
    "print(f\"Train: {len(train_dataset)}, Val: {len(val_dataset)}\")"
   ]
  },
  {
   "cell_type": "code",
   "execution_count": null,
   "metadata": {},
   "outputs": [],
   "source": [
    "# Build tokenizer\n",
    "print(\"Building tokenizer...\")\n",
    "tokenizer = CaptionTokenizer(max_length=32)\n",
    "sample_captions = [full_dataset[i][1] for i in range(min(1000, len(full_dataset)))]\n",
    "tokenizer.fit(sample_captions)\n",
    "print(f\"Vocabulary size: {tokenizer.get_vocab_size()}\")"
   ]
  },
  {
   "cell_type": "code",
   "execution_count": null,
   "metadata": {},
   "outputs": [],
   "source": [
    "# Create data loaders\n",
    "train_loader = DataLoader(\n",
    "    train_dataset, batch_size=BATCH_SIZE, shuffle=True, \n",
    "    num_workers=2, collate_fn=collate_fn\n",
    ")\n",
    "val_loader = DataLoader(\n",
    "    val_dataset, batch_size=BATCH_SIZE, shuffle=False,\n",
    "    num_workers=2, collate_fn=collate_fn\n",
    ")"
   ]
  },
  {
   "cell_type": "code",
   "execution_count": null,
   "metadata": {},
   "outputs": [],
   "source": [
    "# Create model\n",
    "print(\"Creating model...\")\n",
    "model = ConditionalVAE(\n",
    "    vocab_size=tokenizer.get_vocab_size(),\n",
    "    image_size=IMAGE_SIZE,\n",
    "    latent_dim=LATENT_DIM,\n",
    "    caption_dim=CAPTION_DIM,\n",
    ")\n",
    "\n",
    "print(f\"Parameters: {sum(p.numel() for p in model.parameters()):,}\")"
   ]
  },
  {
   "cell_type": "code",
   "execution_count": null,
   "metadata": {},
   "outputs": [],
   "source": [
    "# Setup training\n",
    "optimizer = optim.Adam(model.parameters(), lr=LEARNING_RATE)\n",
    "scheduler = optim.lr_scheduler.StepLR(optimizer, step_size=15, gamma=0.5)\n",
    "criterion = VAELoss(\n",
    "    reconstruction_loss=\"mse\",\n",
    "    kl_weight=0.001,\n",
    "    kl_annealing=True,\n",
    "    kl_annealing_epochs=10,\n",
    ")\n",
    "\n",
    "trainer = Trainer(\n",
    "    model=model,\n",
    "    train_loader=train_loader,\n",
    "    val_loader=val_loader,\n",
    "    optimizer=optimizer,\n",
    "    criterion=criterion,\n",
    "    device=device,\n",
    "    checkpoint_dir=\"checkpoints\",\n",
    "    scheduler=scheduler,\n",
    "    tokenize_fn=tokenizer.encode,\n",
    ")"
   ]
  },
  {
   "cell_type": "code",
   "execution_count": null,
   "metadata": {},
   "outputs": [],
   "source": [
    "# Train!\n",
    "print(\"Starting training...\")\n",
    "trainer.train(num_epochs=NUM_EPOCHS, save_every=10)"
   ]
  },
  {
   "cell_type": "markdown",
   "metadata": {},
   "source": [
    "## Visualize Results"
   ]
  },
  {
   "cell_type": "code",
   "execution_count": null,
   "metadata": {},
   "outputs": [],
   "source": [
    "from src.generation.utils.visualization import plot_training_curves\n",
    "\n",
    "# Plot training curves\n",
    "plot_training_curves(\n",
    "    trainer.train_losses,\n",
    "    trainer.val_losses,\n",
    "    save_path=\"training_curves.png\"\n",
    ")"
   ]
  },
  {
   "cell_type": "code",
   "execution_count": null,
   "metadata": {},
   "outputs": [],
   "source": [
    "from src.generation.utils.visualization import visualize_reconstruction\n",
    "\n",
    "# Visualize reconstructions\n",
    "model.eval()\n",
    "val_images, val_captions = next(iter(val_loader))\n",
    "val_images = val_images[:8].to(device)\n",
    "val_captions = val_captions[:8]\n",
    "\n",
    "val_tokens = torch.stack([\n",
    "    torch.tensor(tokenizer.encode(caption), dtype=torch.long)\n",
    "    for caption in val_captions\n",
    "]).to(device)\n",
    "\n",
    "with torch.no_grad():\n",
    "    reconstructed = model.reconstruct(val_images, val_tokens)\n",
    "\n",
    "visualize_reconstruction(\n",
    "    val_images, reconstructed, val_captions,\n",
    "    save_path=\"reconstruction.png\", num_samples=8\n",
    ")"
   ]
  },
  {
   "cell_type": "code",
   "execution_count": null,
   "metadata": {},
   "outputs": [],
   "source": [
    "from src.generation.utils.visualization import visualize_generation\n",
    "\n",
    "# Generate from text\n",
    "test_captions = [\n",
    "    \"a large blue square above 3 small red circles\",\n",
    "    \"2 medium green triangles\",\n",
    "    \"a small yellow rectangle left of a large purple square\",\n",
    "    \"4 orange circles\",\n",
    "    \"a large pink triangle below 2 small cyan squares\",\n",
    "    \"3 medium brown rectangles\",\n",
    "]\n",
    "\n",
    "test_tokens = torch.stack([\n",
    "    torch.tensor(tokenizer.encode(caption), dtype=torch.long)\n",
    "    for caption in test_captions\n",
    "]).to(device)\n",
    "\n",
    "with torch.no_grad():\n",
    "    generated = model.generate(test_tokens, num_samples=1)\n",
    "\n",
    "visualize_generation(\n",
    "    generated, test_captions,\n",
    "    save_path=\"generated_samples.png\"\n",
    ")"
   ]
  },
  {
   "cell_type": "markdown",
   "metadata": {},
   "source": [
    "## Save Model to Google Drive (Optional)"
   ]
  },
  {
   "cell_type": "code",
   "execution_count": null,
   "metadata": {},
   "outputs": [],
   "source": [
    "# Uncomment to save to Google Drive\n",
    "# from google.colab import drive\n",
    "# drive.mount('/content/drive')\n",
    "\n",
    "# !cp -r checkpoints /content/drive/MyDrive/learning_to_see_checkpoints\n",
    "# !cp *.png /content/drive/MyDrive/learning_to_see_checkpoints/\n",
    "# print(\"Saved to Google Drive!\")"
   ]
  }
 ],
 "metadata": {
  "accelerator": "GPU",
  "colab": {
   "name": "train_in_colab.ipynb",
   "provenance": []
  },
  "kernelspec": {
   "display_name": "Python 3",
   "language": "python",
   "name": "python3"
  },
  "language_info": {
   "name": "python",
   "version": "3.8.0"
  }
 },
 "nbformat": 4,
 "nbformat_minor": 0
}
